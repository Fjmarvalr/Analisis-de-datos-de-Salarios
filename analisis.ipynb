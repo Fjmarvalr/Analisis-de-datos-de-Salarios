{
 "cells": [
  {
   "cell_type": "code",
   "execution_count": 2,
   "metadata": {},
   "outputs": [],
   "source": [
    "#Instalar Panda \n",
    "import pandas as pd"
   ]
  },
  {
   "cell_type": "code",
   "execution_count": 4,
   "metadata": {},
   "outputs": [],
   "source": [
    "#Información de los datos   \n",
    "#Cargar el archivo CSV\n",
    "df_analisis1= pd.read_csv('DataScience_salaries_2025.csv')\n",
    "#Ver las primeras filas del DataFrame"
   ]
  },
  {
   "cell_type": "code",
   "execution_count": 5,
   "metadata": {},
   "outputs": [
    {
     "name": "stdout",
     "output_type": "stream",
     "text": [
      "<class 'pandas.core.frame.DataFrame'>\n",
      "RangeIndex: 93597 entries, 0 to 93596\n",
      "Data columns (total 11 columns):\n",
      " #   Column              Non-Null Count  Dtype \n",
      "---  ------              --------------  ----- \n",
      " 0   work_year           93597 non-null  int64 \n",
      " 1   experience_level    93597 non-null  object\n",
      " 2   employment_type     93597 non-null  object\n",
      " 3   job_title           93597 non-null  object\n",
      " 4   salary              93597 non-null  int64 \n",
      " 5   salary_currency     93597 non-null  object\n",
      " 6   salary_in_usd       93597 non-null  int64 \n",
      " 7   employee_residence  93597 non-null  object\n",
      " 8   remote_ratio        93597 non-null  int64 \n",
      " 9   company_location    93597 non-null  object\n",
      " 10  company_size        93597 non-null  object\n",
      "dtypes: int64(4), object(7)\n",
      "memory usage: 7.9+ MB\n"
     ]
    }
   ],
   "source": [
    "#Información de los datos\n",
    "df_analisis1.info()"
   ]
  },
  {
   "cell_type": "code",
   "execution_count": null,
   "metadata": {},
   "outputs": [],
   "source": []
  }
 ],
 "metadata": {
  "kernelspec": {
   "display_name": "Python 3",
   "language": "python",
   "name": "python3"
  },
  "language_info": {
   "codemirror_mode": {
    "name": "ipython",
    "version": 3
   },
   "file_extension": ".py",
   "mimetype": "text/x-python",
   "name": "python",
   "nbconvert_exporter": "python",
   "pygments_lexer": "ipython3",
   "version": "3.13.2"
  }
 },
 "nbformat": 4,
 "nbformat_minor": 2
}
